{
 "cells": [
  {
   "cell_type": "code",
   "execution_count": 1,
   "id": "b1b46ac7-d016-451b-a608-2efd0108637a",
   "metadata": {},
   "outputs": [],
   "source": [
    "from pathlib import Path\n",
    "import csv"
   ]
  },
  {
   "cell_type": "code",
   "execution_count": 2,
   "id": "d86dde11-11b4-48a4-8c3f-4617dc1c6c24",
   "metadata": {},
   "outputs": [],
   "source": [
    "csvpath = Path('Resources/budget_data.csv')"
   ]
  },
  {
   "cell_type": "code",
   "execution_count": 4,
   "id": "a1f67c9b-064a-4710-9bb3-eca51c0ea0ce",
   "metadata": {},
   "outputs": [
    {
     "data": {
      "text/plain": [
       "<_io.TextIOWrapper name='Resources\\\\budget_data.csv' mode='r' encoding='cp1252'>"
      ]
     },
     "execution_count": 4,
     "metadata": {},
     "output_type": "execute_result"
    }
   ],
   "source": [
    "open(csvpath, 'r')"
   ]
  },
  {
   "cell_type": "raw",
   "id": "e6d12877-58c9-47de-820a-2d5b76cd5c74",
   "metadata": {},
   "source": [
    "print(csvpath, 'r')"
   ]
  },
  {
   "cell_type": "code",
   "execution_count": 6,
   "id": "c9be96ff-c3d9-4ce6-9ffa-55b90bd5def7",
   "metadata": {},
   "outputs": [],
   "source": [
    "csvreader = csv.reader(open(csvpath,'r'), delimiter=',')"
   ]
  },
  {
   "cell_type": "code",
   "execution_count": 7,
   "id": "516bd06f-80df-4970-8c16-e479036cee6f",
   "metadata": {},
   "outputs": [
    {
     "name": "stdout",
     "output_type": "stream",
     "text": [
      "<class '_csv.reader'>\n"
     ]
    }
   ],
   "source": [
    "print(type(csvreader))"
   ]
  },
  {
   "cell_type": "code",
   "execution_count": 8,
   "id": "f27ce7fc-1122-45ee-bab8-f8340015d303",
   "metadata": {},
   "outputs": [
    {
     "name": "stdout",
     "output_type": "stream",
     "text": [
      "<_csv.reader object at 0x0000025FF92DC978>\n"
     ]
    }
   ],
   "source": [
    "print(csvreader)"
   ]
  },
  {
   "cell_type": "code",
   "execution_count": null,
   "id": "b2e02f2a-c026-4c8c-a525-6d65b6d41c98",
   "metadata": {},
   "outputs": [],
   "source": []
  }
 ],
 "metadata": {
  "kernelspec": {
   "display_name": "Python 3 (ipykernel)",
   "language": "python",
   "name": "python3"
  },
  "language_info": {
   "codemirror_mode": {
    "name": "ipython",
    "version": 3
   },
   "file_extension": ".py",
   "mimetype": "text/x-python",
   "name": "python",
   "nbconvert_exporter": "python",
   "pygments_lexer": "ipython3",
   "version": "3.7.13"
  }
 },
 "nbformat": 4,
 "nbformat_minor": 5
}
